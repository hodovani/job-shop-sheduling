{
 "cells": [
  {
   "cell_type": "code",
   "execution_count": 17,
   "metadata": {
    "collapsed": true
   },
   "outputs": [],
   "source": [
    "jobs = [[(0,4),(1,3),(2,5)],[(2,4),(1,3),(0,4)],[(0,6),(2,3),(1,3)]]"
   ]
  },
  {
   "cell_type": "code",
   "execution_count": 18,
   "metadata": {},
   "outputs": [
    {
     "data": {
      "text/plain": [
       "[[(0, 4), (1, 3), (2, 5)], [(2, 4), (1, 3), (0, 4)], [(0, 6), (2, 3), (1, 3)]]"
      ]
     },
     "execution_count": 18,
     "metadata": {},
     "output_type": "execute_result"
    }
   ],
   "source": [
    "jobs"
   ]
  },
  {
   "cell_type": "code",
   "execution_count": 19,
   "metadata": {
    "collapsed": true
   },
   "outputs": [],
   "source": [
    "schedule = [0,0,1,1,2,2,2,1,0]"
   ]
  },
  {
   "cell_type": "code",
   "execution_count": 20,
   "metadata": {},
   "outputs": [],
   "source": []
  },
  {
   "cell_type": "code",
   "execution_count": 58,
   "metadata": {},
   "outputs": [
    {
     "ename": "AttributeError",
     "evalue": "module 'matplotlib.pyplot' has no attribute 'set'",
     "output_type": "error",
     "traceback": [
      "\u001b[0;31m---------------------------------------------------------------------------\u001b[0m",
      "\u001b[0;31mAttributeError\u001b[0m                            Traceback (most recent call last)",
      "\u001b[0;32m<ipython-input-58-e55995f3beef>\u001b[0m in \u001b[0;36m<module>\u001b[0;34m()\u001b[0m\n\u001b[1;32m     47\u001b[0m \u001b[0;34m\u001b[0m\u001b[0m\n\u001b[1;32m     48\u001b[0m \u001b[0mschedulePlot\u001b[0m \u001b[0;34m=\u001b[0m \u001b[0mplt\u001b[0m\u001b[0;34m.\u001b[0m\u001b[0mfigure\u001b[0m\u001b[0;34m(\u001b[0m\u001b[0mfigsize\u001b[0m\u001b[0;34m=\u001b[0m\u001b[0;34m(\u001b[0m\u001b[0;36m18\u001b[0m\u001b[0;34m,\u001b[0m\u001b[0;36m18\u001b[0m\u001b[0;34m)\u001b[0m\u001b[0;34m)\u001b[0m\u001b[0;34m\u001b[0m\u001b[0m\n\u001b[0;32m---> 49\u001b[0;31m \u001b[0mplt\u001b[0m\u001b[0;34m.\u001b[0m\u001b[0mset\u001b[0m\u001b[0;34m(\u001b[0m\u001b[0mgca\u001b[0m\u001b[0;34m(\u001b[0m\u001b[0;34m)\u001b[0m\u001b[0;34m,\u001b[0m \u001b[0;34m'xlim'\u001b[0m\u001b[0;34m,\u001b[0m \u001b[0;34m[\u001b[0m\u001b[0;36m0\u001b[0m\u001b[0;34m,\u001b[0m\u001b[0;36m10\u001b[0m\u001b[0;34m]\u001b[0m\u001b[0;34m)\u001b[0m\u001b[0;34m\u001b[0m\u001b[0m\n\u001b[0m\u001b[1;32m     50\u001b[0m \u001b[0max1\u001b[0m \u001b[0;34m=\u001b[0m \u001b[0mschedulePlot\u001b[0m\u001b[0;34m.\u001b[0m\u001b[0madd_subplot\u001b[0m\u001b[0;34m(\u001b[0m\u001b[0;36m111\u001b[0m\u001b[0;34m,\u001b[0m  \u001b[0maspect\u001b[0m\u001b[0;34m=\u001b[0m\u001b[0;34m\"auto\"\u001b[0m\u001b[0;34m)\u001b[0m\u001b[0;34m\u001b[0m\u001b[0m\n\u001b[1;32m     51\u001b[0m \u001b[0;34m\u001b[0m\u001b[0m\n",
      "\u001b[0;31mAttributeError\u001b[0m: module 'matplotlib.pyplot' has no attribute 'set'"
     ]
    }
   ],
   "source": [
    "import matplotlib.pyplot as plt\n",
    "\n",
    "facecolor=\"#00ffff\"\n",
    "\n",
    "colors = [\"#00ffff\",\"#ffff00\",\"#00ff00\"]\n",
    "\n",
    "def format_job(time, jobnr, ax, machine, end):\n",
    "    if time == 1:\n",
    "        return '#'\n",
    "    if time == 2:\n",
    "        return '[]'\n",
    "\n",
    "    js = str(jobnr)\n",
    "#     matplotlib.patches.Rectangle(\n",
    "#         (end*0.05,machine*0.05),   # (x,y)\n",
    "#                 time*0.05,          # width\n",
    "#                 0.05,          # height\n",
    "#                 facecolor=colors[jobnr]\n",
    "#         )\n",
    "#     ax.axvspan(xmin=end*0.05, xmax=end*0.05+time*0.05, ymin=machine*0.05, ymax=machine*0.05+0.5, facecolor='g', alpha=0.5)\n",
    "    ax.add_patch(\n",
    "        patches.Rectangle(\n",
    "                (end*0.05,machine*0.05),   # (x,y)\n",
    "                time*0.05,          # width\n",
    "                0.05,          # height\n",
    "                facecolor=colors[jobnr]\n",
    "           )\n",
    "    )\n",
    "    \n",
    "    # TODO number should be repeated for long times\n",
    "    # but these may not be nice to print anyways...\n",
    "    # if 2 + len(js) <= time and time < 10:\n",
    "    if 2 + len(js) <= time:\n",
    "        return ('[{:^' + str(time - 2) + '}]').format(jobnr)\n",
    "    \n",
    "    return '#' * time\n",
    "\n",
    "j = len(jobs)\n",
    "m = len(jobs[0])\n",
    "\n",
    "tj = [0]*j   # end of previous task for job\n",
    "tm = [0]*m   # end of previous task on machine\n",
    "\n",
    "ij = [0]*j   # task to schedule next for each job\n",
    "\n",
    "output = [\"\"]*m\n",
    "\n",
    "schedulePlot = plt.figure(figsize=(18,18))\n",
    "\n",
    "ax1 = schedulePlot.add_subplot(111,  aspect=\"auto\")\n",
    "ax1.set_xlim(-2,2)\n",
    "ax1.set_ylim(-2,2)\n",
    "\n",
    "for i in schedule:\n",
    "    machine, time = jobs[i][ij[i]]\n",
    "    ij[i] += 1\n",
    "    start = max(tj[i], tm[machine])\n",
    "    space = start - tm[machine]\n",
    "    end = start + time\n",
    "    tj[i] = end\n",
    "    tm[machine] = end\n",
    "\n",
    "    output[machine] += ' ' * space + format_job(time, i, ax1, machine, start)\n",
    "\n",
    "[print(machine_schedule) for machine_schedule in output]\n",
    "\n",
    "print(\"Total Time: \", max(tm))\n",
    "schedulePlot.savefig('schedulePlot.png',figsize=(8, 6), dpi=90, bbox_inches='tight')\n"
   ]
  },
  {
   "cell_type": "code",
   "execution_count": null,
   "metadata": {
    "collapsed": true
   },
   "outputs": [],
   "source": []
  }
 ],
 "metadata": {
  "kernelspec": {
   "display_name": "Python 3",
   "language": "python",
   "name": "python3"
  },
  "language_info": {
   "codemirror_mode": {
    "name": "ipython",
    "version": 3
   },
   "file_extension": ".py",
   "mimetype": "text/x-python",
   "name": "python",
   "nbconvert_exporter": "python",
   "pygments_lexer": "ipython3",
   "version": "3.5.2"
  }
 },
 "nbformat": 4,
 "nbformat_minor": 2
}
